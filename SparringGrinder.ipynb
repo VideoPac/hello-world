{
  "nbformat": 4,
  "nbformat_minor": 0,
  "metadata": {
    "colab": {
      "provenance": [],
      "authorship_tag": "ABX9TyNLUJl5UpXTmnB8xvK8ksak",
      "include_colab_link": true
    },
    "kernelspec": {
      "name": "python3",
      "display_name": "Python 3"
    },
    "language_info": {
      "name": "python"
    }
  },
  "cells": [
    {
      "cell_type": "markdown",
      "metadata": {
        "id": "view-in-github",
        "colab_type": "text"
      },
      "source": [
        "<a href=\"https://colab.research.google.com/github/VideoPac/hello-world/blob/master/SparringGrinder.ipynb\" target=\"_parent\"><img src=\"https://colab.research.google.com/assets/colab-badge.svg\" alt=\"Open In Colab\"/></a>"
      ]
    },
    {
      "cell_type": "code",
      "execution_count": 1,
      "metadata": {
        "colab": {
          "base_uri": "https://localhost:8080/"
        },
        "id": "6rhc5MDj8lMF",
        "outputId": "6400eeb1-8b0f-4eae-fb96-5ec03a87e686",
        "collapsed": true
      },
      "outputs": [
        {
          "output_type": "stream",
          "name": "stdout",
          "text": [
            "Collecting poker\n",
            "  Downloading poker-0.30.0-py3-none-any.whl.metadata (3.0 kB)\n",
            "Requirement already satisfied: pytz in /usr/local/lib/python3.10/dist-packages (from poker) (2024.1)\n",
            "Requirement already satisfied: requests in /usr/local/lib/python3.10/dist-packages (from poker) (2.32.3)\n",
            "Requirement already satisfied: lxml in /usr/local/lib/python3.10/dist-packages (from poker) (4.9.4)\n",
            "Requirement already satisfied: python-dateutil in /usr/local/lib/python3.10/dist-packages (from poker) (2.8.2)\n",
            "Collecting parsedatetime (from poker)\n",
            "  Downloading parsedatetime-2.6-py3-none-any.whl.metadata (4.7 kB)\n",
            "Collecting cached-property (from poker)\n",
            "  Downloading cached_property-1.5.2-py2.py3-none-any.whl.metadata (11 kB)\n",
            "Requirement already satisfied: click in /usr/local/lib/python3.10/dist-packages (from poker) (8.1.7)\n",
            "Requirement already satisfied: pathlib in /usr/local/lib/python3.10/dist-packages (from poker) (1.0.1)\n",
            "Collecting configparser (from poker)\n",
            "  Downloading configparser-7.0.0-py3-none-any.whl.metadata (5.4 kB)\n",
            "Collecting zope.interface (from poker)\n",
            "  Downloading zope.interface-7.0.1-cp310-cp310-manylinux_2_5_x86_64.manylinux1_x86_64.manylinux_2_17_x86_64.manylinux2014_x86_64.whl.metadata (43 kB)\n",
            "\u001b[2K     \u001b[90m━━━━━━━━━━━━━━━━━━━━━━━━━━━━━━━━━━━━━━━━\u001b[0m \u001b[32m43.2/43.2 kB\u001b[0m \u001b[31m930.5 kB/s\u001b[0m eta \u001b[36m0:00:00\u001b[0m\n",
            "\u001b[?25hRequirement already satisfied: attrs in /usr/local/lib/python3.10/dist-packages (from poker) (24.2.0)\n",
            "Requirement already satisfied: six>=1.5 in /usr/local/lib/python3.10/dist-packages (from python-dateutil->poker) (1.16.0)\n",
            "Requirement already satisfied: charset-normalizer<4,>=2 in /usr/local/lib/python3.10/dist-packages (from requests->poker) (3.3.2)\n",
            "Requirement already satisfied: idna<4,>=2.5 in /usr/local/lib/python3.10/dist-packages (from requests->poker) (3.7)\n",
            "Requirement already satisfied: urllib3<3,>=1.21.1 in /usr/local/lib/python3.10/dist-packages (from requests->poker) (2.0.7)\n",
            "Requirement already satisfied: certifi>=2017.4.17 in /usr/local/lib/python3.10/dist-packages (from requests->poker) (2024.7.4)\n",
            "Requirement already satisfied: setuptools in /usr/local/lib/python3.10/dist-packages (from zope.interface->poker) (71.0.4)\n",
            "Downloading poker-0.30.0-py3-none-any.whl (34 kB)\n",
            "Downloading cached_property-1.5.2-py2.py3-none-any.whl (7.6 kB)\n",
            "Downloading configparser-7.0.0-py3-none-any.whl (16 kB)\n",
            "Downloading parsedatetime-2.6-py3-none-any.whl (42 kB)\n",
            "\u001b[2K   \u001b[90m━━━━━━━━━━━━━━━━━━━━━━━━━━━━━━━━━━━━━━━━\u001b[0m \u001b[32m42.5/42.5 kB\u001b[0m \u001b[31m2.1 MB/s\u001b[0m eta \u001b[36m0:00:00\u001b[0m\n",
            "\u001b[?25hDownloading zope.interface-7.0.1-cp310-cp310-manylinux_2_5_x86_64.manylinux1_x86_64.manylinux_2_17_x86_64.manylinux2014_x86_64.whl (254 kB)\n",
            "\u001b[2K   \u001b[90m━━━━━━━━━━━━━━━━━━━━━━━━━━━━━━━━━━━━━━━━\u001b[0m \u001b[32m254.1/254.1 kB\u001b[0m \u001b[31m9.8 MB/s\u001b[0m eta \u001b[36m0:00:00\u001b[0m\n",
            "\u001b[?25hInstalling collected packages: parsedatetime, cached-property, zope.interface, configparser, poker\n",
            "Successfully installed cached-property-1.5.2 configparser-7.0.0 parsedatetime-2.6 poker-0.30.0 zope.interface-7.0.1\n"
          ]
        }
      ],
      "source": [
        "!pip install poker\n"
      ]
    },
    {
      "cell_type": "code",
      "source": [
        "!pip install eval7\n"
      ],
      "metadata": {
        "id": "r6EuKvai8uZh",
        "colab": {
          "base_uri": "https://localhost:8080/"
        },
        "collapsed": true,
        "outputId": "3a6fa6fc-58b5-434b-a64d-f980a9179297"
      },
      "execution_count": 2,
      "outputs": [
        {
          "output_type": "stream",
          "name": "stdout",
          "text": [
            "Collecting eval7\n",
            "  Downloading eval7-0.1.10-cp310-cp310-manylinux_2_5_x86_64.manylinux1_x86_64.manylinux_2_28_x86_64.whl.metadata (4.3 kB)\n",
            "Requirement already satisfied: pyparsing in /usr/local/lib/python3.10/dist-packages (from eval7) (3.1.2)\n",
            "Requirement already satisfied: future in /usr/local/lib/python3.10/dist-packages (from eval7) (1.0.0)\n",
            "Downloading eval7-0.1.10-cp310-cp310-manylinux_2_5_x86_64.manylinux1_x86_64.manylinux_2_28_x86_64.whl (591 kB)\n",
            "\u001b[2K   \u001b[90m━━━━━━━━━━━━━━━━━━━━━━━━━━━━━━━━━━━━━━━━\u001b[0m \u001b[32m591.6/591.6 kB\u001b[0m \u001b[31m12.5 MB/s\u001b[0m eta \u001b[36m0:00:00\u001b[0m\n",
            "\u001b[?25hInstalling collected packages: eval7\n",
            "Successfully installed eval7-0.1.10\n"
          ]
        }
      ]
    },
    {
      "cell_type": "code",
      "source": [
        "import eval7\n",
        "\n",
        "# Créer un deck\n",
        "deck = eval7.Deck()\n",
        "deck.shuffle()\n",
        "\n",
        "# Distribuer une main de 7 cartes\n",
        "hand = deck.deal(7)\n",
        "print(hand)\n",
        "\n",
        "# Évaluer la main\n",
        "hand_value = eval7.evaluate(hand)\n",
        "hand_type = eval7.handtype(hand_value)\n",
        "print(f\"Valeur de la main : {hand_value}, Type de main : {hand_type}\")\n"
      ],
      "metadata": {
        "colab": {
          "base_uri": "https://localhost:8080/"
        },
        "id": "lIiZ0hGtFSjB",
        "outputId": "4f02cf18-d282-482e-aa2d-6c04f2211ebd"
      },
      "execution_count": 4,
      "outputs": [
        {
          "output_type": "stream",
          "name": "stdout",
          "text": [
            "[Card(\"As\"), Card(\"Jh\"), Card(\"7s\"), Card(\"3h\"), Card(\"Qh\"), Card(\"Ks\"), Card(\"8h\")]\n",
            "Valeur de la main : 834198, Type de main : High Card\n"
          ]
        }
      ]
    },
    {
      "cell_type": "code",
      "source": [
        "import eval7\n",
        "from itertools import combinations\n",
        "import time\n",
        "\n",
        "def generate_boards(deck, hand1, hand2):\n",
        "    hand1_cards = [eval7.Card(c) for c in hand1]\n",
        "    hand2_cards = [eval7.Card(c) for c in hand2]\n",
        "\n",
        "    # Enlever les cartes des mains du deck\n",
        "    for card in hand1_cards + hand2_cards:\n",
        "        deck.cards.remove(card)\n",
        "\n",
        "    # Générer toutes les combinaisons de 5 cartes sans les cartes des mains\n",
        "    board_combinations = list(combinations(deck.cards, 5))\n",
        "\n",
        "    return board_combinations\n",
        "\n",
        "def evaluate_boards(hand1, hand2, board_combinations):\n",
        "    hand1_wins = 0\n",
        "    hand2_wins = 0\n",
        "    ties = 0\n",
        "\n",
        "    hand1_cards = [eval7.Card(c) for c in hand1]\n",
        "    hand2_cards = [eval7.Card(c) for c in hand2]\n",
        "\n",
        "    for board in board_combinations:\n",
        "        hand1_value = eval7.evaluate(hand1_cards + list(board))\n",
        "        hand2_value = eval7.evaluate(hand2_cards + list(board))\n",
        "\n",
        "        if hand1_value > hand2_value:\n",
        "            hand1_wins += 1\n",
        "        elif hand2_value > hand1_value:\n",
        "            hand2_wins += 1\n",
        "        else:\n",
        "            ties += 1\n",
        "\n",
        "    return hand1_wins, hand2_wins, ties\n",
        "\n",
        "def calculate_equity(hand1, hand2):\n",
        "    start_time = time.time()\n",
        "\n",
        "    deck = eval7.Deck()\n",
        "    board_combinations = generate_boards(deck, hand1, hand2)\n",
        "    hand1_wins, hand2_wins, ties = evaluate_boards(hand1, hand2, board_combinations)\n",
        "\n",
        "    total = hand1_wins + hand2_wins + ties\n",
        "    hand1_equity = (hand1_wins + ties / 2) / total * 100\n",
        "    hand2_equity = (hand2_wins + ties / 2) / total * 100\n",
        "\n",
        "    end_time = time.time()\n",
        "    execution_time = end_time - start_time\n",
        "    print(f\"Execution time: {execution_time:.4f} seconds\")\n",
        "\n",
        "    return round(hand1_equity, 2), round(hand2_equity, 2)\n",
        "\n",
        "# Exemple d'utilisation\n",
        "hand1 = ['Ah', 'As']\n",
        "hand2 = ['Kh', 'Ks']\n",
        "equity = calculate_equity(hand1, hand2)\n",
        "print(f\"Équité pour {hand1}: {equity[0]:.2f}%\")\n",
        "print(f\"Équité pour {hand2}: {equity[1]:.2f}%\")\n"
      ],
      "metadata": {
        "colab": {
          "base_uri": "https://localhost:8080/"
        },
        "id": "BQUJ6oeRzjYQ",
        "outputId": "46d85a12-b628-4342-a4c0-5f9c4002ccfd"
      },
      "execution_count": 5,
      "outputs": [
        {
          "output_type": "stream",
          "name": "stdout",
          "text": [
            "Execution time: 6.4853 seconds\n",
            "Équité pour ['Ah', 'As']: 82.64%\n",
            "Équité pour ['Kh', 'Ks']: 17.36%\n"
          ]
        }
      ]
    },
    {
      "cell_type": "code",
      "source": [
        "import eval7\n",
        "from itertools import combinations\n",
        "import pandas as pd\n",
        "\n",
        "# Créer les en-têtes pour les lignes et les colonnes\n",
        "ranks = ['AA', 'KK', 'QQ', 'JJ', 'TT', '99', '88', '77', '66', '55', '44', '33', '22']\n",
        "\n",
        "# Initialiser un DataFrame vide avec les en-têtes appropriées\n",
        "equity_df = pd.DataFrame(index=ranks, columns=ranks)\n",
        "\n",
        "# Remplir la diagonale avec None\n",
        "for i in range(len(ranks)):\n",
        "    equity_df.iloc[i, i] = None\n",
        "\n",
        "# Fonction pour générer toutes les combinaisons de boards\n",
        "def generate_boards(deck, hand1, hand2):\n",
        "    hand1_cards = [eval7.Card(c) for c in hand1]\n",
        "    hand2_cards = [eval7.Card(c) for c in hand2]\n",
        "\n",
        "    for card in hand1_cards + hand2_cards:\n",
        "        deck.cards.remove(card)\n",
        "\n",
        "    board_combinations = list(combinations(deck.cards, 5))\n",
        "    return board_combinations\n",
        "\n",
        "# Fonction pour évaluer les boards\n",
        "def evaluate_boards(hand1, hand2, board_combinations):\n",
        "    hand1_wins = 0\n",
        "    hand2_wins = 0\n",
        "    ties = 0\n",
        "\n",
        "    hand1_cards = [eval7.Card(c) for c in hand1]\n",
        "    hand2_cards = [eval7.Card(c) for c in hand2]\n",
        "\n",
        "    for board in board_combinations:\n",
        "        hand1_value = eval7.evaluate(hand1_cards + list(board))\n",
        "        hand2_value = eval7.evaluate(hand2_cards + list(board))\n",
        "\n",
        "        if hand1_value > hand2_value:\n",
        "            hand1_wins += 1\n",
        "        elif hand2_value > hand1_value:\n",
        "            hand2_wins += 1\n",
        "        else:\n",
        "            ties += 1\n",
        "\n",
        "    return hand1_wins, hand2_wins, ties\n",
        "\n",
        "# Fonction pour calculer l'équité\n",
        "def calculate_equity(hand1, hand2):\n",
        "    deck = eval7.Deck()\n",
        "    board_combinations = generate_boards(deck, hand1, hand2)\n",
        "    hand1_wins, hand2_wins, ties = evaluate_boards(hand1, hand2, board_combinations)\n",
        "\n",
        "    total = hand1_wins + hand2_wins + ties\n",
        "    hand1_equity = (hand1_wins + ties / 2) / total * 100\n",
        "    hand2_equity = (hand2_wins + ties / 2) / total * 100\n",
        "\n",
        "    return round(hand1_equity, 2), round(hand2_equity, 2)\n",
        "\n",
        "# Remplir le tableau avec les équités des matchup de pocket pairs\n",
        "for i in range(1, len(ranks)):\n",
        "    for j in range(i):\n",
        "        hand1 = [ranks[i][0] + 's', ranks[i][0] + 'h']\n",
        "        hand2 = [ranks[j][0] + 's', ranks[j][0] + 'h']\n",
        "        equity1, equity2 = calculate_equity(hand1, hand2)\n",
        "        equity_df.iloc[i, j] = equity1\n",
        "        equity_df.iloc[j, i] = equity2\n",
        "\n",
        "# Afficher le DataFrame\n",
        "print(equity_df)\n"
      ],
      "metadata": {
        "colab": {
          "base_uri": "https://localhost:8080/"
        },
        "id": "HLnFbYzDfeIc",
        "outputId": "6ae0f6a5-723b-4470-84ad-0a5eee693a0b"
      },
      "execution_count": 6,
      "outputs": [
        {
          "output_type": "stream",
          "name": "stdout",
          "text": [
            "       AA     KK     QQ     JJ     TT     99     88     77     66     55  \\\n",
            "AA   None  82.64  82.23  81.82  81.41  81.53  81.12  81.14  81.11  81.55   \n",
            "KK  17.36   None  82.62  82.22  81.81  81.48  81.54  81.13  81.15  81.14   \n",
            "QQ  17.77  17.38   None  82.66  82.25  81.86  81.54  81.59  81.18  81.17   \n",
            "JJ  18.18  17.78  17.34   None  82.68  82.29  81.91  81.58  81.63   81.2   \n",
            "TT  18.59  18.19  17.75  17.32   None  82.69  82.31  81.92   81.6  81.62   \n",
            "99  18.47  18.52  18.14  17.71  17.31   None  82.63  82.24  81.86   81.5   \n",
            "88  18.88  18.46  18.46  18.09  17.69  17.37   None  82.51  82.13  81.71   \n",
            "77  18.86  18.87  18.41  18.42  18.08  17.76  17.49   None  82.33  81.92   \n",
            "66  18.89  18.85  18.82  18.37   18.4  18.14  17.87  17.67   None  82.05   \n",
            "55  18.45  18.86  18.83   18.8  18.38   18.5  18.29  18.08  17.95   None   \n",
            "44   18.0  18.42  18.38  18.36  18.36  18.02  18.19  18.04  17.91  17.83   \n",
            "33  17.56  17.97  17.94  17.91  17.92   18.0  17.71  17.94  17.87  17.79   \n",
            "22  17.11  17.53  17.49  17.47  17.47  17.55  17.69  17.46  17.77  17.75   \n",
            "\n",
            "       44     33     22  \n",
            "AA   82.0  82.44  82.89  \n",
            "KK  81.58  82.03  82.47  \n",
            "QQ  81.62  82.06  82.51  \n",
            "JJ  81.64  82.09  82.53  \n",
            "TT  81.64  82.08  82.53  \n",
            "99  81.98   82.0  82.45  \n",
            "88  81.81  82.29  82.31  \n",
            "77  81.96  82.06  82.54  \n",
            "66  82.09  82.13  82.23  \n",
            "55  82.17  82.21  82.25  \n",
            "44   None   81.7  81.74  \n",
            "33   18.3   None  81.11  \n",
            "22  18.26  18.89   None  \n"
          ]
        }
      ]
    },
    {
      "cell_type": "code",
      "source": [
        "import eval7\n",
        "from itertools import combinations\n",
        "import pandas as pd\n",
        "\n",
        "# Créer les en-têtes pour les lignes et les colonnes\n",
        "ranks = ['AA', 'KK', 'QQ', 'JJ', 'TT', '99', '88', '77', '66', '55', '44', '33', '22']\n",
        "\n",
        "# Initialiser un DataFrame vide avec les en-têtes appropriées\n",
        "equity_diff_color_df = pd.DataFrame(index=ranks, columns=ranks)\n",
        "\n",
        "# Remplir la diagonale avec None\n",
        "for i in range(len(ranks)):\n",
        "    equity_diff_color_df.iloc[i, i] = None\n",
        "\n",
        "# Fonction pour générer toutes les combinaisons de boards\n",
        "def generate_boards(deck, hand1, hand2):\n",
        "    hand1_cards = [eval7.Card(c) for c in hand1]\n",
        "    hand2_cards = [eval7.Card(c) for c in hand2]\n",
        "\n",
        "    for card in hand1_cards + hand2_cards:\n",
        "        deck.cards.remove(card)\n",
        "\n",
        "    board_combinations = list(combinations(deck.cards, 5))\n",
        "    return board_combinations\n",
        "\n",
        "# Fonction pour évaluer les boards\n",
        "def evaluate_boards(hand1, hand2, board_combinations):\n",
        "    hand1_wins = 0\n",
        "    hand2_wins = 0\n",
        "    ties = 0\n",
        "\n",
        "    hand1_cards = [eval7.Card(c) for c in hand1]\n",
        "    hand2_cards = [eval7.Card(c) for c in hand2]\n",
        "\n",
        "    for board in board_combinations:\n",
        "        hand1_value = eval7.evaluate(hand1_cards + list(board))\n",
        "        hand2_value = eval7.evaluate(hand2_cards + list(board))\n",
        "\n",
        "        if hand1_value > hand2_value:\n",
        "            hand1_wins += 1\n",
        "        elif hand2_value > hand1_value:\n",
        "            hand2_wins += 1\n",
        "        else:\n",
        "            ties += 1\n",
        "\n",
        "    return hand1_wins, hand2_wins, ties\n",
        "\n",
        "# Fonction pour calculer l'équité\n",
        "def calculate_equity(hand1, hand2):\n",
        "    deck = eval7.Deck()\n",
        "    board_combinations = generate_boards(deck, hand1, hand2)\n",
        "    hand1_wins, hand2_wins, ties = evaluate_boards(hand1, hand2, board_combinations)\n",
        "\n",
        "    total = hand1_wins + hand2_wins + ties\n",
        "    hand1_equity = (hand1_wins + ties / 2) / total * 100\n",
        "    hand2_equity = (hand2_wins + ties / 2) / total * 100\n",
        "\n",
        "    return round(hand1_equity, 2), round(hand2_equity, 2)\n",
        "\n",
        "# Remplir le tableau avec les équités des matchup de pocket pairs avec couleurs différentes\n",
        "for i in range(1, len(ranks)):\n",
        "    for j in range(i):\n",
        "        hand1 = [ranks[i][0] + 's', ranks[i][0] + 'h']\n",
        "        hand2 = [ranks[j][0] + 's', ranks[j][0] + 'd']\n",
        "        equity1, equity2 = calculate_equity(hand1, hand2)\n",
        "        equity_diff_color_df.iloc[i, j] = equity1\n",
        "        equity_diff_color_df.iloc[j, i] = 100 - equity1\n",
        "\n",
        "# Afficher le DataFrame\n",
        "print(equity_diff_color_df)\n"
      ],
      "metadata": {
        "colab": {
          "base_uri": "https://localhost:8080/"
        },
        "id": "Jl2SE7AHgr-h",
        "outputId": "d295eb43-19ba-4ff6-ef4f-8c20170c94be"
      },
      "execution_count": 8,
      "outputs": [
        {
          "output_type": "stream",
          "name": "stdout",
          "text": [
            "       AA     KK     QQ     JJ     TT     99     88     77     66     55  \\\n",
            "AA   None  81.95  81.55  81.15  80.75  80.86  80.46  80.48  80.46  80.89   \n",
            "KK  18.05   None  81.93  81.54  81.14  80.82  80.87  80.47  80.49  80.48   \n",
            "QQ  18.45  18.07   None  81.97  81.57  81.19  80.87  80.92  80.53  80.52   \n",
            "JJ  18.85  18.46  18.03   None  81.99  81.61  81.23  80.91  80.97  80.54   \n",
            "TT  19.25  18.86  18.43  18.01   None   82.0  81.62  81.25  80.93  80.96   \n",
            "99  19.14  19.18  18.81  18.39   18.0   None  81.94  81.56  81.18  80.84   \n",
            "88  19.54  19.13  19.13  18.77  18.38  18.06   None  81.82  81.44  81.04   \n",
            "77  19.52  19.53  19.08  19.09  18.75  18.44  18.18   None  81.64  81.24   \n",
            "66  19.54  19.51  19.47  19.03  19.07  18.82  18.56  18.36   None  81.36   \n",
            "55  19.11  19.52  19.48  19.46  19.04  19.16  18.96  18.76  18.64   None   \n",
            "44  18.67  19.08  19.04  19.02  19.02  18.69  18.86  18.72   18.6  18.52   \n",
            "33  18.23  18.63   18.6  18.58  18.58  18.66  18.38  18.61  18.55  18.48   \n",
            "22  17.78  18.19  18.15  18.13  18.13  18.22  18.35  18.13  18.44  18.43   \n",
            "\n",
            "       44     33     22  \n",
            "AA  81.33  81.77  82.22  \n",
            "KK  80.92  81.37  81.81  \n",
            "QQ  80.96   81.4  81.85  \n",
            "JJ  80.98  81.42  81.87  \n",
            "TT  80.98  81.42  81.87  \n",
            "99  81.31  81.34  81.78  \n",
            "88  81.14  81.62  81.65  \n",
            "77  81.28  81.39  81.87  \n",
            "66   81.4  81.45  81.56  \n",
            "55  81.48  81.52  81.57  \n",
            "44   None  81.01  81.06  \n",
            "33  18.99   None  80.43  \n",
            "22  18.94  19.57   None  \n"
          ]
        }
      ]
    },
    {
      "cell_type": "code",
      "source": [
        "import eval7\n",
        "from itertools import combinations\n",
        "import pandas as pd\n",
        "\n",
        "# Créer les en-têtes pour les lignes et les colonnes\n",
        "ranks = ['AA', 'KK', 'QQ', 'JJ', 'TT', '99', '88', '77', '66', '55', '44', '33', '22']\n",
        "\n",
        "# Initialiser un DataFrame vide avec les en-têtes appropriées\n",
        "equity_diff_suit_df = pd.DataFrame(index=ranks, columns=ranks)\n",
        "\n",
        "# Remplir la diagonale avec None\n",
        "for i in range(len(ranks)):\n",
        "    equity_diff_suit_df.iloc[i, i] = None\n",
        "\n",
        "# Fonction pour générer toutes les combinaisons de boards\n",
        "def generate_boards(deck, hand1, hand2):\n",
        "    hand1_cards = [eval7.Card(c) for c in hand1]\n",
        "    hand2_cards = [eval7.Card(c) for c in hand2]\n",
        "\n",
        "    for card in hand1_cards + hand2_cards:\n",
        "        deck.cards.remove(card)\n",
        "\n",
        "    board_combinations = list(combinations(deck.cards, 5))\n",
        "    return board_combinations\n",
        "\n",
        "# Fonction pour évaluer les boards\n",
        "def evaluate_boards(hand1, hand2, board_combinations):\n",
        "    hand1_wins = 0\n",
        "    hand2_wins = 0\n",
        "    ties = 0\n",
        "\n",
        "    hand1_cards = [eval7.Card(c) for c in hand1]\n",
        "    hand2_cards = [eval7.Card(c) for c in hand2]\n",
        "\n",
        "    for board in board_combinations:\n",
        "        hand1_value = eval7.evaluate(hand1_cards + list(board))\n",
        "        hand2_value = eval7.evaluate(hand2_cards + list(board))\n",
        "\n",
        "        if hand1_value > hand2_value:\n",
        "            hand1_wins += 1\n",
        "        elif hand2_value > hand1_value:\n",
        "            hand2_wins += 1\n",
        "        else:\n",
        "            ties += 1\n",
        "\n",
        "    return hand1_wins, hand2_wins, ties\n",
        "\n",
        "# Fonction pour calculer l'équité\n",
        "def calculate_equity(hand1, hand2):\n",
        "    deck = eval7.Deck()\n",
        "    board_combinations = generate_boards(deck, hand1, hand2)\n",
        "    hand1_wins, hand2_wins, ties = evaluate_boards(hand1, hand2, board_combinations)\n",
        "\n",
        "    total = hand1_wins + hand2_wins + ties\n",
        "    hand1_equity = (hand1_wins + ties / 2) / total * 100\n",
        "    hand2_equity = (hand2_wins + ties / 2) / total * 100\n",
        "\n",
        "    return round(hand1_equity, 2), round(hand2_equity, 2)\n",
        "\n",
        "# Remplir le tableau avec les équités des matchup de pocket pairs avec toutes les couleurs différentes\n",
        "for i in range(1, len(ranks)):\n",
        "    for j in range(i):\n",
        "        hand1 = [ranks[i][0] + 's', ranks[i][0] + 'h']\n",
        "        hand2 = [ranks[j][0] + 'c', ranks[j][0] + 'd']\n",
        "        equity1, equity2 = calculate_equity(hand1, hand2)\n",
        "        equity_diff_suit_df.iloc[i, j] = equity1\n",
        "        equity_diff_suit_df.iloc[j, i] = 100 - equity1\n",
        "\n",
        "# Afficher le DataFrame\n",
        "print(equity_diff_suit_df)\n"
      ],
      "metadata": {
        "colab": {
          "base_uri": "https://localhost:8080/"
        },
        "id": "CVbRQYFej6yz",
        "outputId": "8719917d-faa5-4f16-cac4-7a9a356d4a2a"
      },
      "execution_count": 9,
      "outputs": [
        {
          "output_type": "stream",
          "name": "stdout",
          "text": [
            "       AA     KK     QQ     JJ     TT     99     88     77     66     55  \\\n",
            "AA   None  81.26  80.86  80.47  80.08  80.19   79.8  79.82   79.8  80.23   \n",
            "KK  18.74   None  81.24  80.85  80.46  80.15   80.2  79.81  79.84  79.83   \n",
            "QQ  19.14  18.76   None  81.28  80.89  80.52   80.2  80.26  79.87  79.86   \n",
            "JJ  19.53  19.15  18.72   None  81.29  80.93  80.56  80.24   80.3  79.88   \n",
            "TT  19.92  19.54  19.11  18.71   None  81.31  80.94  80.57  80.26  80.29   \n",
            "99  19.81  19.85  19.48  19.07  18.69   None  81.24  80.88  80.51  80.17   \n",
            "88   20.2   19.8   19.8  19.44  19.06  18.76   None  81.13  80.76  80.37   \n",
            "77  20.18  20.19  19.74  19.76  19.43  19.12  18.87   None  80.95  80.56   \n",
            "66   20.2  20.16  20.13   19.7  19.74  19.49  19.24  19.05   None  80.67   \n",
            "55  19.77  20.17  20.14  20.12  19.71  19.83  19.63  19.44  19.33   None   \n",
            "44  19.34  19.73   19.7  19.68  19.68  19.36  19.53  19.39  19.28  19.22   \n",
            "33   18.9  19.29  19.26  19.24  19.24  19.33  19.05  19.29  19.23  19.16   \n",
            "22  18.45  18.85  18.81  18.79   18.8  18.88  19.02   18.8  19.11  19.11   \n",
            "\n",
            "       44     33     22  \n",
            "AA  80.66   81.1  81.55  \n",
            "KK  80.27  80.71  81.15  \n",
            "QQ   80.3  80.74  81.19  \n",
            "JJ  80.32  80.76  81.21  \n",
            "TT  80.32  80.76   81.2  \n",
            "99  80.64  80.67  81.12  \n",
            "88  80.47  80.95  80.98  \n",
            "77  80.61  80.71   81.2  \n",
            "66  80.72  80.77  80.89  \n",
            "55  80.78  80.84  80.89  \n",
            "44   None  80.32  80.38  \n",
            "33  19.68   None  79.75  \n",
            "22  19.62  20.25   None  \n"
          ]
        }
      ]
    },
    {
      "cell_type": "code",
      "source": [
        "import seaborn as sns\n",
        "import matplotlib.pyplot as plt\n",
        "import pandas as pd\n",
        "import numpy as np\n",
        "\n",
        "# Renommer les DataFrames pour plus de cohérence\n",
        "twosuits_df = equity_df.copy()\n",
        "threesuits_df = equity_diff_color_df.copy()\n",
        "foursuits_df = equity_diff_suit_df.copy()\n"
      ],
      "metadata": {
        "id": "rLC-4reMlPbS"
      },
      "execution_count": 10,
      "outputs": []
    },
    {
      "cell_type": "code",
      "source": [],
      "metadata": {
        "id": "WYcVyCpgpQUY"
      },
      "execution_count": null,
      "outputs": []
    }
  ]
}